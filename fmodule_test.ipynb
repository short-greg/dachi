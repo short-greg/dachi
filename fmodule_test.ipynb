{
 "cells": [
  {
   "cell_type": "code",
   "execution_count": 5,
   "metadata": {},
   "outputs": [
    {
     "name": "stdout",
     "output_type": "stream",
     "text": [
      "7\n",
      "Link method called\n",
      "8\n"
     ]
    }
   ],
   "source": [
    "# import typing\n",
    "# import asyncio\n",
    "# from functools import wraps\n",
    "\n",
    "# class Module:\n",
    "#     pass\n",
    "\n",
    "# class FModule(Module):\n",
    "#     def __init__(self, f: typing.Callable, instance=None):\n",
    "#         self.f = f\n",
    "#         self.instance = instance\n",
    "\n",
    "#     def forward(self, *args, **kwargs) -> typing.Any:\n",
    "#         if self.instance:\n",
    "#             return self.f(self.instance, *args, **kwargs)\n",
    "#         return self.f(*args, **kwargs)\n",
    "\n",
    "#     def link(self, *args, **kwargs) -> typing.Any:\n",
    "#         print(\"Link method called\")\n",
    "#         return self.forward(*args, **kwargs)\n",
    "\n",
    "#     def __call__(self, *args, **kwargs) -> typing.Any:\n",
    "#         return self.forward(*args, **kwargs)\n",
    "\n",
    "#     def __get__(self, instance, owner):\n",
    "#         # Bind the method to the instance\n",
    "#         return FModule(self.f, instance)\n",
    "\n",
    "# def process(f):\n",
    "#     @wraps(f)\n",
    "#     def wrapper(*args, **kwargs):\n",
    "#         return f(*args, **kwargs)\n",
    "#     return FModule(wrapper)\n",
    "\n",
    "# # Example usage\n",
    "# class MyClass:\n",
    "\n",
    "#     def __init__(self, x):\n",
    "\n",
    "#         self.x = x\n",
    "\n",
    "#     @process\n",
    "#     def some_method(self, x, y):\n",
    "#         return x + y + self.x\n",
    "\n",
    "# # Test the functionality\n",
    "# obj = MyClass(2)\n",
    "# result = obj.some_method(2, 3)  # Calls FModule's __call__, which in turn calls forward\n",
    "# print(result)  # Output should be 5\n",
    "\n",
    "\n",
    "# # Access the link method on the FModule instance\n",
    "# result_link = obj.some_method.link(2, 4)  # Calls FModule's link method\n",
    "# print(result_link)  # Output should be 5 (after \"Link method called\" is printed)"
   ]
  }
 ],
 "metadata": {
  "kernelspec": {
   "display_name": "py312torch",
   "language": "python",
   "name": "python3"
  },
  "language_info": {
   "codemirror_mode": {
    "name": "ipython",
    "version": 3
   },
   "file_extension": ".py",
   "mimetype": "text/x-python",
   "name": "python",
   "nbconvert_exporter": "python",
   "pygments_lexer": "ipython3",
   "version": "3.12.1"
  }
 },
 "nbformat": 4,
 "nbformat_minor": 2
}
